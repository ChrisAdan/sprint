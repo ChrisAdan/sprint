{
 "cells": [
  {
   "cell_type": "markdown",
   "id": "4274ae53",
   "metadata": {},
   "source": [
    "# Sprint Analysis Overview\n",
    "\n",
    "This analysis explores player behavior, engagement, and interaction patterns within the Sprint game environment. Using detailed event and session data, we aim to uncover insights such as player playtime distributions, encounter dynamics between teams, revenue contributions by geography, and performance metrics at both individual and aggregated levels.\n",
    "\n",
    "The data pipeline is built with dbt, transforming raw event logs into curated fact and dimension tables, and further into specialized marts optimized for business queries. This structure enables analysts to efficiently answer critical questions about player activity, session encounters, and monetization trends over time.\n",
    "\n",
    "The following report presents key metrics and aggregated views designed to support strategic decision-making and game experience enhancements."
   ]
  },
  {
   "cell_type": "code",
   "execution_count": 2,
   "id": "a7087465",
   "metadata": {},
   "outputs": [],
   "source": [
    "import duckdb\n",
    "import pandas as pd\n",
    "from pathlib import Path\n",
    "\n",
    "db_path = Path('../data/synthetic.duckdb').resolve()\n",
    "conn = duckdb.connect(database=str(db_path), read_only=False)\n",
    "\n",
    "def run_query(sql):\n",
    "    df = conn.execute(sql).fetchdf()\n",
    "    return df"
   ]
  },
  {
   "cell_type": "code",
   "execution_count": 3,
   "id": "cc999e0a",
   "metadata": {},
   "outputs": [
    {
     "name": "stdout",
     "output_type": "stream",
     "text": [
      "This project generated 16 tables in 4 schemas according to a medallion paradigm\n"
     ]
    },
    {
     "data": {
      "text/html": [
       "<div>\n",
       "<style scoped>\n",
       "    .dataframe tbody tr th:only-of-type {\n",
       "        vertical-align: middle;\n",
       "    }\n",
       "\n",
       "    .dataframe tbody tr th {\n",
       "        vertical-align: top;\n",
       "    }\n",
       "\n",
       "    .dataframe thead th {\n",
       "        text-align: right;\n",
       "    }\n",
       "</style>\n",
       "<table border=\"1\" class=\"dataframe\">\n",
       "  <thead>\n",
       "    <tr style=\"text-align: right;\">\n",
       "      <th></th>\n",
       "      <th>table_schema</th>\n",
       "      <th>table_name</th>\n",
       "    </tr>\n",
       "  </thead>\n",
       "  <tbody>\n",
       "    <tr>\n",
       "      <th>0</th>\n",
       "      <td>sprint_dim</td>\n",
       "      <td>dim_players</td>\n",
       "    </tr>\n",
       "    <tr>\n",
       "      <th>1</th>\n",
       "      <td>sprint_dim</td>\n",
       "      <td>dim_products</td>\n",
       "    </tr>\n",
       "    <tr>\n",
       "      <th>2</th>\n",
       "      <td>sprint_mart</td>\n",
       "      <td>country_monthly_playtime</td>\n",
       "    </tr>\n",
       "    <tr>\n",
       "      <th>3</th>\n",
       "      <td>sprint_mart</td>\n",
       "      <td>country_weekly_revenue</td>\n",
       "    </tr>\n",
       "    <tr>\n",
       "      <th>4</th>\n",
       "      <td>sprint_mart</td>\n",
       "      <td>encounter_summary_daily</td>\n",
       "    </tr>\n",
       "    <tr>\n",
       "      <th>5</th>\n",
       "      <td>sprint_mart</td>\n",
       "      <td>player_activity_daily</td>\n",
       "    </tr>\n",
       "    <tr>\n",
       "      <th>6</th>\n",
       "      <td>sprint_mart</td>\n",
       "      <td>player_consecutive_days_monthly</td>\n",
       "    </tr>\n",
       "    <tr>\n",
       "      <th>7</th>\n",
       "      <td>sprint_mart</td>\n",
       "      <td>player_stats_lifetime</td>\n",
       "    </tr>\n",
       "    <tr>\n",
       "      <th>8</th>\n",
       "      <td>sprint_mart</td>\n",
       "      <td>session_close_encounters_daily</td>\n",
       "    </tr>\n",
       "    <tr>\n",
       "      <th>9</th>\n",
       "      <td>sprint_raw</td>\n",
       "      <td>event_session</td>\n",
       "    </tr>\n",
       "    <tr>\n",
       "      <th>10</th>\n",
       "      <td>sprint_raw</td>\n",
       "      <td>event_signons</td>\n",
       "    </tr>\n",
       "    <tr>\n",
       "      <th>11</th>\n",
       "      <td>sprint_raw</td>\n",
       "      <td>event_transaction</td>\n",
       "    </tr>\n",
       "    <tr>\n",
       "      <th>12</th>\n",
       "      <td>sprint_stage</td>\n",
       "      <td>event_heartbeat</td>\n",
       "    </tr>\n",
       "    <tr>\n",
       "      <th>13</th>\n",
       "      <td>sprint_stage</td>\n",
       "      <td>fact_session</td>\n",
       "    </tr>\n",
       "    <tr>\n",
       "      <th>14</th>\n",
       "      <td>sprint_stage</td>\n",
       "      <td>stage_centroids</td>\n",
       "    </tr>\n",
       "    <tr>\n",
       "      <th>15</th>\n",
       "      <td>sprint_stage</td>\n",
       "      <td>stage_encounters</td>\n",
       "    </tr>\n",
       "  </tbody>\n",
       "</table>\n",
       "</div>"
      ],
      "text/plain": [
       "    table_schema                       table_name\n",
       "0     sprint_dim                      dim_players\n",
       "1     sprint_dim                     dim_products\n",
       "2    sprint_mart         country_monthly_playtime\n",
       "3    sprint_mart           country_weekly_revenue\n",
       "4    sprint_mart          encounter_summary_daily\n",
       "5    sprint_mart            player_activity_daily\n",
       "6    sprint_mart  player_consecutive_days_monthly\n",
       "7    sprint_mart            player_stats_lifetime\n",
       "8    sprint_mart   session_close_encounters_daily\n",
       "9     sprint_raw                    event_session\n",
       "10    sprint_raw                    event_signons\n",
       "11    sprint_raw                event_transaction\n",
       "12  sprint_stage                  event_heartbeat\n",
       "13  sprint_stage                     fact_session\n",
       "14  sprint_stage                  stage_centroids\n",
       "15  sprint_stage                 stage_encounters"
      ]
     },
     "execution_count": 3,
     "metadata": {},
     "output_type": "execute_result"
    }
   ],
   "source": [
    "arch = run_query('select * from information_schema.tables')[['table_schema', 'table_name']]\n",
    "print(f'This project generated {arch.table_name.nunique()} tables in {arch.table_schema.nunique()} schemas according to a medallion paradigm')\n",
    "arch"
   ]
  },
  {
   "cell_type": "markdown",
   "id": "0d17a14f",
   "metadata": {},
   "source": [
    "The Python generators created 1,000 unique sample players and simulated their sign-in patterns over the course of a year. They modeled session activity with matchmaking, logged all player actions into the database, and built a concise analytics layer in mart tables for streamlined, clean analysis.\n",
    "\n",
    "## Questions\n",
    "### 1. Average play time on 2025-07-07 for any player (e.g., pick the first player in the dataset)\n"
   ]
  },
  {
   "cell_type": "code",
   "execution_count": 4,
   "id": "b4ad8b3a",
   "metadata": {},
   "outputs": [
    {
     "name": "stdout",
     "output_type": "stream",
     "text": [
      "Average play time of a player on 2025-07-07\n",
      "Selected player: 0837\n",
      "On 2025-07-07, player 0837 played for 1775.0 seconds.\n",
      "\n"
     ]
    }
   ],
   "source": [
    "select_date = '2025-07-07'\n",
    "print(f\"Average play time of a player on {select_date}\")\n",
    "\n",
    "# Pick one player who played that day\n",
    "player_sql = f\"\"\"\n",
    "SELECT DISTINCT player_id\n",
    "FROM sprint_mart.player_activity_daily\n",
    "WHERE calendar_date = DATE '{select_date}'\n",
    "LIMIT 1\n",
    "\"\"\"\n",
    "player_id = conn.execute(player_sql).fetchone()[0]\n",
    "print(f\"Selected player: {player_id}\")\n",
    "\n",
    "# Query that player’s playtime on the date from the mart\n",
    "query_1 = f\"\"\"\n",
    "SELECT \n",
    "    player_id,\n",
    "    calendar_date,\n",
    "    total_play_time_seconds\n",
    "FROM sprint_mart.player_activity_daily\n",
    "WHERE player_id = '{player_id}'\n",
    "  AND calendar_date = DATE '{select_date}'\n",
    "\"\"\"\n",
    "df1 = run_query(query_1)\n",
    "\n",
    "played_seconds = df1['total_play_time_seconds'].iloc[0] if not df1.empty else 0\n",
    "print(f\"On {select_date}, player {player_id} played for {played_seconds} seconds.\\n\")\n"
   ]
  },
  {
   "cell_type": "markdown",
   "id": "9aa05669",
   "metadata": {},
   "source": [
    "### 2. Week with the highest volume of players"
   ]
  },
  {
   "cell_type": "code",
   "execution_count": 5,
   "id": "7abbb6f7",
   "metadata": {},
   "outputs": [
    {
     "name": "stdout",
     "output_type": "stream",
     "text": [
      "2. Week with highest volume of unique players\n",
      "The week starting 2025-10-20 had the highest number of unique players: 779.\n",
      "\n"
     ]
    }
   ],
   "source": [
    "print(\"2. Week with highest volume of unique players\")\n",
    "num_rows = 1\n",
    "\n",
    "query_2 = f\"\"\"\n",
    "SELECT \n",
    "    date_trunc('week', calendar_date::timestamp) AS year_week,\n",
    "    COUNT(DISTINCT player_id) AS unique_players\n",
    "FROM sprint_mart.player_activity_daily\n",
    "GROUP BY year_week\n",
    "ORDER BY unique_players DESC\n",
    "LIMIT {num_rows}\n",
    "\"\"\"\n",
    "\n",
    "df2 = run_query(query_2)\n",
    "print(f\"The week starting {df2['year_week'].iloc[0].date()} had the highest number of unique players: {df2['unique_players'].iloc[0]}.\\n\")\n"
   ]
  },
  {
   "cell_type": "markdown",
   "id": "16b9bb74",
   "metadata": {},
   "source": [
    "### 3. Country with the most playtime for June 2025"
   ]
  },
  {
   "cell_type": "code",
   "execution_count": 6,
   "id": "0e3c12c3",
   "metadata": {},
   "outputs": [
    {
     "name": "stdout",
     "output_type": "stream",
     "text": [
      "3. Country with the most time played for June 2025\n",
      "In June 2025, US had the most total play time with 704325.0 seconds.\n",
      "\n"
     ]
    }
   ],
   "source": [
    "print(\"3. Country with the most time played for June 2025\")\n",
    "query_3 = \"\"\"\n",
    "SELECT \n",
    "    country,\n",
    "    total_play_time_seconds\n",
    "FROM sprint_mart.country_monthly_playtime\n",
    "WHERE year_month = DATE '2025-06-01'\n",
    "ORDER BY total_play_time_seconds DESC\n",
    "LIMIT 1\n",
    "\"\"\"\n",
    "df3 = run_query(query_3)\n",
    "print(f\"In June 2025, {df3['country'].iloc[0]} had the most total play time with {df3['total_play_time_seconds'].iloc[0]} seconds.\\n\")\n"
   ]
  },
  {
   "cell_type": "markdown",
   "id": "0411e8a3",
   "metadata": {},
   "source": [
    "### 4. Player-specific statistics (using selected player above)"
   ]
  },
  {
   "cell_type": "code",
   "execution_count": 7,
   "id": "29a82a06",
   "metadata": {},
   "outputs": [
    {
     "name": "stdout",
     "output_type": "stream",
     "text": [
      "4a. Player lifetime kill/death average\n",
      "Player 0837 lifetime kill/death ratio is 1.6699999570846558.\n",
      "\n"
     ]
    }
   ],
   "source": [
    "print(\"4a. Player lifetime kill/death average\")\n",
    "\n",
    "query_4a = f\"\"\"\n",
    "SELECT\n",
    "    player_id,\n",
    "    kill_death_ratio\n",
    "FROM sprint_mart.player_activity_daily\n",
    "WHERE player_id = '{player_id}'\n",
    "ORDER BY calendar_date DESC\n",
    "LIMIT 1\n",
    "\"\"\"\n",
    "df4a = run_query(query_4a)\n",
    "kd_ratio = df4a['kill_death_ratio'].iloc[0] if not df4a.empty else None\n",
    "print(f\"Player {player_id} lifetime kill/death ratio is {kd_ratio}.\\n\")\n"
   ]
  },
  {
   "cell_type": "code",
   "execution_count": 8,
   "id": "065b1c7e",
   "metadata": {},
   "outputs": [
    {
     "name": "stdout",
     "output_type": "stream",
     "text": [
      "Player 0837 played the most consecutive days (3) in 2025-08-01.\n",
      "\n"
     ]
    }
   ],
   "source": [
    "# 4b. Month with most consecutive play days\n",
    "query_4b = f\"\"\"\n",
    "SELECT \n",
    "    year_month,\n",
    "    max_consecutive_days_played\n",
    "FROM sprint_mart.player_consecutive_days_monthly\n",
    "WHERE player_id = '{player_id}'\n",
    "ORDER BY max_consecutive_days_played DESC\n",
    "LIMIT 1\n",
    "\"\"\"\n",
    "\n",
    "df4b = run_query(query_4b)\n",
    "\n",
    "if not df4b.empty:\n",
    "    month = df4b['year_month'].iloc[0].date()\n",
    "    days = df4b['max_consecutive_days_played'].iloc[0]\n",
    "    print(f\"Player {player_id} played the most consecutive days ({days}) in {month}.\\n\")\n",
    "else:\n",
    "    print(f\"No consecutive play days data available for player {player_id}.\\n\")\n"
   ]
  },
  {
   "cell_type": "markdown",
   "id": "3ad0e05a",
   "metadata": {},
   "source": [
    "### 5. Country with the most revenue per week?"
   ]
  },
  {
   "cell_type": "code",
   "execution_count": 9,
   "id": "b371c1b2",
   "metadata": {},
   "outputs": [
    {
     "name": "stdout",
     "output_type": "stream",
     "text": [
      "5. Country that has driven the most revenue per week\n",
      "The country with the highest revenue was US in the week starting 2025-07-28 with revenue of 8822.48.\n",
      "\n"
     ]
    }
   ],
   "source": [
    "print(\"5. Country that has driven the most revenue per week\")\n",
    "\n",
    "query_5 = f\"\"\"\n",
    "SELECT \n",
    "    country,\n",
    "    year_week,\n",
    "    total_revenue\n",
    "FROM sprint_mart.country_weekly_revenue\n",
    "ORDER BY total_revenue DESC\n",
    "LIMIT 1\n",
    "\"\"\"\n",
    "\n",
    "df5 = run_query(query_5)\n",
    "\n",
    "if not df5.empty:\n",
    "    country = df5['country'].iloc[0]\n",
    "    week_start = df5['year_week'].iloc[0].date()\n",
    "    revenue = df5['total_revenue'].iloc[0]\n",
    "    print(f\"The country with the highest revenue was {country} in the week starting {week_start} with revenue of {revenue}.\\n\")\n",
    "else:\n",
    "    print(\"No revenue data available.\\n\")\n"
   ]
  },
  {
   "cell_type": "markdown",
   "id": "e9901060",
   "metadata": {},
   "source": [
    "### 6. Close encounters per session per day in June 2025"
   ]
  },
  {
   "cell_type": "code",
   "execution_count": 10,
   "id": "86d05e6b",
   "metadata": {},
   "outputs": [
    {
     "name": "stdout",
     "output_type": "stream",
     "text": [
      "6. Close encounters per session by day in June 2025\n"
     ]
    },
    {
     "data": {
      "text/html": [
       "<div>\n",
       "<style scoped>\n",
       "    .dataframe tbody tr th:only-of-type {\n",
       "        vertical-align: middle;\n",
       "    }\n",
       "\n",
       "    .dataframe tbody tr th {\n",
       "        vertical-align: top;\n",
       "    }\n",
       "\n",
       "    .dataframe thead th {\n",
       "        text-align: right;\n",
       "    }\n",
       "</style>\n",
       "<table border=\"1\" class=\"dataframe\">\n",
       "  <thead>\n",
       "    <tr style=\"text-align: right;\">\n",
       "      <th></th>\n",
       "      <th>session_id</th>\n",
       "      <th>calendar_day</th>\n",
       "      <th>total_close_encounters</th>\n",
       "    </tr>\n",
       "  </thead>\n",
       "  <tbody>\n",
       "    <tr>\n",
       "      <th>329</th>\n",
       "      <td>7d5493ec-120d-4d96-9e6a-abbc5d5b61aa</td>\n",
       "      <td>2025-06-01</td>\n",
       "      <td>6.0</td>\n",
       "    </tr>\n",
       "    <tr>\n",
       "      <th>569</th>\n",
       "      <td>d10bb582-8d2e-41cd-af42-31fff3db80e5</td>\n",
       "      <td>2025-06-01</td>\n",
       "      <td>11.0</td>\n",
       "    </tr>\n",
       "    <tr>\n",
       "      <th>659</th>\n",
       "      <td>eef38fe7-060e-4617-af09-a9e931393a27</td>\n",
       "      <td>2025-06-01</td>\n",
       "      <td>11.0</td>\n",
       "    </tr>\n",
       "    <tr>\n",
       "      <th>619</th>\n",
       "      <td>dfa3de2e-a12e-454c-bd22-2504717309c8</td>\n",
       "      <td>2025-06-01</td>\n",
       "      <td>1.0</td>\n",
       "    </tr>\n",
       "    <tr>\n",
       "      <th>536</th>\n",
       "      <td>c7e55050-9a68-4244-9f57-2054336d6b11</td>\n",
       "      <td>2025-06-01</td>\n",
       "      <td>3.0</td>\n",
       "    </tr>\n",
       "    <tr>\n",
       "      <th>...</th>\n",
       "      <td>...</td>\n",
       "      <td>...</td>\n",
       "      <td>...</td>\n",
       "    </tr>\n",
       "    <tr>\n",
       "      <th>95</th>\n",
       "      <td>28ca2d6b-11c1-46d7-822e-18d5240ca4ed</td>\n",
       "      <td>2025-06-30</td>\n",
       "      <td>7.0</td>\n",
       "    </tr>\n",
       "    <tr>\n",
       "      <th>679</th>\n",
       "      <td>f3aa404a-dd9b-4159-83e6-8bf3e598b71f</td>\n",
       "      <td>2025-06-30</td>\n",
       "      <td>4.0</td>\n",
       "    </tr>\n",
       "    <tr>\n",
       "      <th>471</th>\n",
       "      <td>b24f8fe3-bea0-4c12-ae33-ae4c600d62d3</td>\n",
       "      <td>2025-06-30</td>\n",
       "      <td>6.0</td>\n",
       "    </tr>\n",
       "    <tr>\n",
       "      <th>345</th>\n",
       "      <td>822bca51-7062-4ea8-a918-8766c908f4d4</td>\n",
       "      <td>2025-06-30</td>\n",
       "      <td>6.0</td>\n",
       "    </tr>\n",
       "    <tr>\n",
       "      <th>142</th>\n",
       "      <td>3c63bfe2-c2d2-4b5d-ac51-81b29bec4482</td>\n",
       "      <td>2025-06-30</td>\n",
       "      <td>1.0</td>\n",
       "    </tr>\n",
       "  </tbody>\n",
       "</table>\n",
       "<p>708 rows × 3 columns</p>\n",
       "</div>"
      ],
      "text/plain": [
       "                               session_id calendar_day  total_close_encounters\n",
       "329  7d5493ec-120d-4d96-9e6a-abbc5d5b61aa   2025-06-01                     6.0\n",
       "569  d10bb582-8d2e-41cd-af42-31fff3db80e5   2025-06-01                    11.0\n",
       "659  eef38fe7-060e-4617-af09-a9e931393a27   2025-06-01                    11.0\n",
       "619  dfa3de2e-a12e-454c-bd22-2504717309c8   2025-06-01                     1.0\n",
       "536  c7e55050-9a68-4244-9f57-2054336d6b11   2025-06-01                     3.0\n",
       "..                                    ...          ...                     ...\n",
       "95   28ca2d6b-11c1-46d7-822e-18d5240ca4ed   2025-06-30                     7.0\n",
       "679  f3aa404a-dd9b-4159-83e6-8bf3e598b71f   2025-06-30                     4.0\n",
       "471  b24f8fe3-bea0-4c12-ae33-ae4c600d62d3   2025-06-30                     6.0\n",
       "345  822bca51-7062-4ea8-a918-8766c908f4d4   2025-06-30                     6.0\n",
       "142  3c63bfe2-c2d2-4b5d-ac51-81b29bec4482   2025-06-30                     1.0\n",
       "\n",
       "[708 rows x 3 columns]"
      ]
     },
     "execution_count": 10,
     "metadata": {},
     "output_type": "execute_result"
    }
   ],
   "source": [
    "print(\"6. Close encounters per session by day in June 2025\")\n",
    "\n",
    "query_6 = f\"\"\"\n",
    "SELECT \n",
    "    session_id,\n",
    "    calendar_day,\n",
    "    sum(daily_encounter_count) AS total_close_encounters\n",
    "FROM sprint_mart.encounter_summary_daily\n",
    "WHERE calendar_day >= DATE '2025-06-01'\n",
    "  AND calendar_day < DATE '2025-07-01'\n",
    "GROUP BY session_id, calendar_day\n",
    "ORDER BY session_id, calendar_day\n",
    "\"\"\"\n",
    "\n",
    "df6 = run_query(query_6).sort_values(by='calendar_day', ascending=True)\n",
    "df6"
   ]
  },
  {
   "cell_type": "markdown",
   "id": "aa528dae",
   "metadata": {},
   "source": [
    "### Estimated Table Size and Growth Projection\n",
    "\n",
    "We generated data for 1,000 unique players, simulating up to 1 session per day per sign-on, over the course of one year.\n",
    "\n",
    "Looking ahead, we aim to scale this to approximately **1 million daily active players** within the next year.\n",
    "\n",
    "#### Baseline Estimates for 1,000 Players in 2025:\n",
    "\n",
    "- **~12.7K distinct sessions** (assuming partial daily activity)  \n",
    "- **Up to 10 sessions per player per day** (upper bound; actual player sign-ins vary)  \n",
    "- **~127K realistic sessions** based on expected player activity  \n",
    "- **~30 heartbeats per session**  \n",
    "- Resulting in approximately **3.8 million heartbeat events**  \n",
    "\n",
    "#### Growth Projection for 1 Million Players in 2026:\n",
    "\n",
    "Scaling linearly by player count, we expect roughly:\n",
    "\n",
    "- **~12.7 million distinct sessions**  \n",
    "- **~127 million realistic sessions**  \n",
    "- Approximately **3 billion heartbeat events**  \n",
    "\n",
    "This represents a **1,000× increase** in data volume over one year.\n",
    "\n",
    "---\n",
    "\n",
    "### Scaling Considerations and Solutions\n",
    "\n",
    "Handling this scale requires careful planning and architectural choices:\n",
    "\n",
    "- **Data Partitioning and Clustering:** Organize tables by time (e.g., monthly partitions) and player or session identifiers to optimize query performance and reduce scan costs.  \n",
    "- **Incremental Processing:** Use incremental models and ETL pipelines (e.g., with dbt) to process only new or changed data, minimizing resource use and speeding up data refreshes.  \n",
    "- **Data Archiving:** Archive or purge older data no longer needed for real-time analytics to manage storage and maintain performance.  \n",
    "- **Cloud Data Warehousing:** Leverage scalable, cloud-native warehouses (Snowflake, BigQuery, Redshift) that elastically handle petabyte-scale data and offer robust performance optimizations.  \n",
    "- **Pre-aggregated Marts:** Build specialized aggregate tables and materialized views for common queries, reducing the need to scan large raw tables repeatedly.  \n",
    "- **Monitoring and Cost Control:** Implement monitoring for query performance and cost, enabling proactive optimization and budget management.\n",
    "\n",
    "By combining these approaches, the platform can efficiently scale to millions of players while supporting fast, insightful analytics.\n"
   ]
  }
 ],
 "metadata": {
  "kernelspec": {
   "display_name": "venv (3.12.3)",
   "language": "python",
   "name": "python3"
  },
  "language_info": {
   "codemirror_mode": {
    "name": "ipython",
    "version": 3
   },
   "file_extension": ".py",
   "mimetype": "text/x-python",
   "name": "python",
   "nbconvert_exporter": "python",
   "pygments_lexer": "ipython3",
   "version": "3.12.3"
  }
 },
 "nbformat": 4,
 "nbformat_minor": 5
}
